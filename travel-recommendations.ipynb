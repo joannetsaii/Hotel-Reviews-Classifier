{
 "cells": [
  {
   "cell_type": "markdown",
   "id": "a4b593cc",
   "metadata": {},
   "source": [
    "# 05-318 Human AI Interaction ML Project\n",
    "#### Name: Joanne Tsai"
   ]
  },
  {
   "cell_type": "markdown",
   "id": "81303fd4",
   "metadata": {},
   "source": [
    "### Overview & Datasets\n",
    "This project aims to build a classifier for truthful and deceptive hotel reviews. The datasets used are included in  the Deceptive Opinion Spam Corpus that can be obtained from the two associated papers cited below. The dataset contains 800 truthful reviews from Trip Advisor, Expedia, and Hotels.com and 800 deceptive reviews from Mechanical Turk. The positive and negative reviews are balanced and all files are in plain text."
   ]
  },
  {
   "cell_type": "markdown",
   "id": "5d1c0f75",
   "metadata": {},
   "source": [
    "### References:\n",
    "[1] M. Ott, Y. Choi, C. Cardie, and J.T. Hancock. 2011. Finding Deceptive Opinion Spam by Any Stretch of the Imagination. In Proceedings of the 49th Annual Meeting of the Association for Computational Linguistics: Human Language Technologies.\n",
    "\n",
    "[2] M. Ott, C. Cardie, and J.T. Hancock. 2013. Negative Deceptive Opinion Spam. In Proceedings of the 2013 Conference of the North American Chapter of the Association for Computational Linguistics: Human Language Technologies."
   ]
  },
  {
   "cell_type": "markdown",
   "id": "3f062a27",
   "metadata": {},
   "source": [
    "## Importing libraries"
   ]
  },
  {
   "cell_type": "code",
   "execution_count": 466,
   "id": "a23bc7f0",
   "metadata": {},
   "outputs": [],
   "source": [
    "import pandas as pd\n",
    "import glob\n",
    "import string\n",
    "\n",
    "import nltk\n",
    "# nltk.download('stopwords')\n",
    "from nltk.corpus import stopwords\n",
    "from nltk import pos_tag, pos_tag_sents\n",
    "from textblob import TextBlob\n",
    "\n",
    "import sklearn\n",
    "from sklearn import metrics\n",
    "from sklearn.metrics import classification_report, accuracy_score, confusion_matrix, precision_recall_fscore_support\n",
    "from sklearn.model_selection import train_test_split\n",
    "from sklearn.feature_extraction.text import TfidfVectorizer\n",
    "from sklearn.svm import SVC, LinearSVC\n",
    "from sklearn.model_selection import GridSearchCV\n",
    "\n",
    "from sklearn.ensemble import RandomForestClassifier\n",
    "\n",
    "import pickle"
   ]
  },
  {
   "cell_type": "markdown",
   "id": "cc586e5e",
   "metadata": {},
   "source": [
    "## Importing Data"
   ]
  },
  {
   "cell_type": "code",
   "execution_count": 467,
   "id": "2a5911cf",
   "metadata": {},
   "outputs": [
    {
     "data": {
      "text/html": [
       "<div>\n",
       "<style scoped>\n",
       "    .dataframe tbody tr th:only-of-type {\n",
       "        vertical-align: middle;\n",
       "    }\n",
       "\n",
       "    .dataframe tbody tr th {\n",
       "        vertical-align: top;\n",
       "    }\n",
       "\n",
       "    .dataframe thead th {\n",
       "        text-align: right;\n",
       "    }\n",
       "</style>\n",
       "<table border=\"1\" class=\"dataframe\">\n",
       "  <thead>\n",
       "    <tr style=\"text-align: right;\">\n",
       "      <th></th>\n",
       "      <th>review</th>\n",
       "      <th>label</th>\n",
       "    </tr>\n",
       "  </thead>\n",
       "  <tbody>\n",
       "    <tr>\n",
       "      <th>0</th>\n",
       "      <td>took a weekend trip with my wife. got a great ...</td>\n",
       "      <td>truthful</td>\n",
       "    </tr>\n",
       "    <tr>\n",
       "      <th>1</th>\n",
       "      <td>Thirty years ago, we had a tiny \"room\" and ind...</td>\n",
       "      <td>truthful</td>\n",
       "    </tr>\n",
       "    <tr>\n",
       "      <th>2</th>\n",
       "      <td>Dispite what other are saying, this was one, i...</td>\n",
       "      <td>truthful</td>\n",
       "    </tr>\n",
       "    <tr>\n",
       "      <th>3</th>\n",
       "      <td>We loved the hotel. When I see other posts abo...</td>\n",
       "      <td>truthful</td>\n",
       "    </tr>\n",
       "    <tr>\n",
       "      <th>4</th>\n",
       "      <td>We have just returned from a week at the James...</td>\n",
       "      <td>truthful</td>\n",
       "    </tr>\n",
       "  </tbody>\n",
       "</table>\n",
       "</div>"
      ],
      "text/plain": [
       "                                              review     label\n",
       "0  took a weekend trip with my wife. got a great ...  truthful\n",
       "1  Thirty years ago, we had a tiny \"room\" and ind...  truthful\n",
       "2  Dispite what other are saying, this was one, i...  truthful\n",
       "3  We loved the hotel. When I see other posts abo...  truthful\n",
       "4  We have just returned from a week at the James...  truthful"
      ]
     },
     "execution_count": 467,
     "metadata": {},
     "output_type": "execute_result"
    }
   ],
   "source": [
    "# Get all the text files\n",
    "folder_path = ['data/pos_truthful_from_TripAdvisor', 'data/neg_truthful_from_Web']\n",
    "truthful_reviews = []\n",
    "for folder in folder_path:\n",
    "    for i in range(1, 6):\n",
    "        files = glob.glob(folder + f\"/fold{i}\" + \"/*.txt\")\n",
    "        for file in files:\n",
    "            f = open(file, \"r\")\n",
    "            content = f.read()\n",
    "            truthful_reviews.append([content, \"truthful\"])\n",
    "\n",
    "# Check if reviews are read correctly (should be 800)\n",
    "# print(len(truthful_reviews))\n",
    "\n",
    "truthful_reviews_df = pd.DataFrame(truthful_reviews, columns =['review', 'label'])\n",
    "truthful_reviews_df.head()"
   ]
  },
  {
   "cell_type": "code",
   "execution_count": 468,
   "id": "9474689c",
   "metadata": {},
   "outputs": [
    {
     "data": {
      "text/html": [
       "<div>\n",
       "<style scoped>\n",
       "    .dataframe tbody tr th:only-of-type {\n",
       "        vertical-align: middle;\n",
       "    }\n",
       "\n",
       "    .dataframe tbody tr th {\n",
       "        vertical-align: top;\n",
       "    }\n",
       "\n",
       "    .dataframe thead th {\n",
       "        text-align: right;\n",
       "    }\n",
       "</style>\n",
       "<table border=\"1\" class=\"dataframe\">\n",
       "  <thead>\n",
       "    <tr style=\"text-align: right;\">\n",
       "      <th></th>\n",
       "      <th>review</th>\n",
       "      <th>label</th>\n",
       "    </tr>\n",
       "  </thead>\n",
       "  <tbody>\n",
       "    <tr>\n",
       "      <th>0</th>\n",
       "      <td>I traveled to Chicago with my husband for a ro...</td>\n",
       "      <td>deceptive</td>\n",
       "    </tr>\n",
       "    <tr>\n",
       "      <th>1</th>\n",
       "      <td>I stayed in the Sofitel Chicago Water Tower ho...</td>\n",
       "      <td>deceptive</td>\n",
       "    </tr>\n",
       "    <tr>\n",
       "      <th>2</th>\n",
       "      <td>This hotel was gorgeous! I really enjoyed my s...</td>\n",
       "      <td>deceptive</td>\n",
       "    </tr>\n",
       "    <tr>\n",
       "      <th>3</th>\n",
       "      <td>This is an absolutely exquisite hotel, at a gr...</td>\n",
       "      <td>deceptive</td>\n",
       "    </tr>\n",
       "    <tr>\n",
       "      <th>4</th>\n",
       "      <td>I recently traveled up to Chicago for business...</td>\n",
       "      <td>deceptive</td>\n",
       "    </tr>\n",
       "  </tbody>\n",
       "</table>\n",
       "</div>"
      ],
      "text/plain": [
       "                                              review      label\n",
       "0  I traveled to Chicago with my husband for a ro...  deceptive\n",
       "1  I stayed in the Sofitel Chicago Water Tower ho...  deceptive\n",
       "2  This hotel was gorgeous! I really enjoyed my s...  deceptive\n",
       "3  This is an absolutely exquisite hotel, at a gr...  deceptive\n",
       "4  I recently traveled up to Chicago for business...  deceptive"
      ]
     },
     "execution_count": 468,
     "metadata": {},
     "output_type": "execute_result"
    }
   ],
   "source": [
    "# Get all the text files\n",
    "folder_path = ['data/pos_deceptive_from_MTurk', 'data/neg_deceptive_from_MTurk']\n",
    "deceptive_reviews = []\n",
    "for folder in folder_path:\n",
    "    for i in range(1, 6):\n",
    "        files = glob.glob(folder + f\"/fold{i}\" + \"/*.txt\")\n",
    "        for file in files:\n",
    "            f = open(file, \"r\")\n",
    "            content = f.read()\n",
    "            deceptive_reviews.append([content, \"deceptive\"])\n",
    "\n",
    "# Check if reviews are read correctly (should be 800)\n",
    "# print(len(deceptive_reviews))\n",
    "\n",
    "deceptive_reviews_df = pd.DataFrame(deceptive_reviews, columns =['review', 'label'])\n",
    "deceptive_reviews_df.head()"
   ]
  },
  {
   "cell_type": "code",
   "execution_count": 469,
   "id": "ee8d9ee6",
   "metadata": {},
   "outputs": [
    {
     "data": {
      "text/html": [
       "<div>\n",
       "<style scoped>\n",
       "    .dataframe tbody tr th:only-of-type {\n",
       "        vertical-align: middle;\n",
       "    }\n",
       "\n",
       "    .dataframe tbody tr th {\n",
       "        vertical-align: top;\n",
       "    }\n",
       "\n",
       "    .dataframe thead th {\n",
       "        text-align: right;\n",
       "    }\n",
       "</style>\n",
       "<table border=\"1\" class=\"dataframe\">\n",
       "  <thead>\n",
       "    <tr style=\"text-align: right;\">\n",
       "      <th></th>\n",
       "      <th>review</th>\n",
       "      <th>label</th>\n",
       "    </tr>\n",
       "  </thead>\n",
       "  <tbody>\n",
       "    <tr>\n",
       "      <th>0</th>\n",
       "      <td>took a weekend trip with my wife. got a great ...</td>\n",
       "      <td>truthful</td>\n",
       "    </tr>\n",
       "    <tr>\n",
       "      <th>1</th>\n",
       "      <td>Thirty years ago, we had a tiny \"room\" and ind...</td>\n",
       "      <td>truthful</td>\n",
       "    </tr>\n",
       "    <tr>\n",
       "      <th>2</th>\n",
       "      <td>Dispite what other are saying, this was one, i...</td>\n",
       "      <td>truthful</td>\n",
       "    </tr>\n",
       "    <tr>\n",
       "      <th>3</th>\n",
       "      <td>We loved the hotel. When I see other posts abo...</td>\n",
       "      <td>truthful</td>\n",
       "    </tr>\n",
       "    <tr>\n",
       "      <th>4</th>\n",
       "      <td>We have just returned from a week at the James...</td>\n",
       "      <td>truthful</td>\n",
       "    </tr>\n",
       "  </tbody>\n",
       "</table>\n",
       "</div>"
      ],
      "text/plain": [
       "                                              review     label\n",
       "0  took a weekend trip with my wife. got a great ...  truthful\n",
       "1  Thirty years ago, we had a tiny \"room\" and ind...  truthful\n",
       "2  Dispite what other are saying, this was one, i...  truthful\n",
       "3  We loved the hotel. When I see other posts abo...  truthful\n",
       "4  We have just returned from a week at the James...  truthful"
      ]
     },
     "execution_count": 469,
     "metadata": {},
     "output_type": "execute_result"
    }
   ],
   "source": [
    "# Merge the two datasets\n",
    "dataframes = [truthful_reviews_df, deceptive_reviews_df]\n",
    "reviews = pd.concat(dataframes)\n",
    "\n",
    "reviews.head()\n",
    "\n",
    "# print(len(reviews))"
   ]
  },
  {
   "cell_type": "markdown",
   "id": "4ae5388c",
   "metadata": {},
   "source": [
    "## Extracting & Tagging Data"
   ]
  },
  {
   "cell_type": "markdown",
   "id": "e16639b3",
   "metadata": {},
   "source": [
    "### Remove stopwords from reviews\n",
    "We want to remove stop words in the reviews and keep words that have meanings in the context. We create a new column to store the filtered reviews."
   ]
  },
  {
   "cell_type": "code",
   "execution_count": 470,
   "id": "e62dca7f",
   "metadata": {},
   "outputs": [],
   "source": [
    "stop = stopwords.words('english')\n",
    "def remove_stop_words(col):\n",
    "    new_col = []\n",
    "    for review in col:\n",
    "        new_val = []\n",
    "        review = review.translate(str.maketrans('', '', string.punctuation))\n",
    "        for word in review.split():\n",
    "            if word not in stop:\n",
    "                new_val.append(word)\n",
    "        new_col.append(' '.join(new_val))\n",
    "    return new_col\n",
    "\n",
    "reviews['review_without_stopwords'] = remove_stop_words(reviews['review'])"
   ]
  },
  {
   "cell_type": "code",
   "execution_count": 471,
   "id": "09725870",
   "metadata": {},
   "outputs": [
    {
     "data": {
      "text/html": [
       "<div>\n",
       "<style scoped>\n",
       "    .dataframe tbody tr th:only-of-type {\n",
       "        vertical-align: middle;\n",
       "    }\n",
       "\n",
       "    .dataframe tbody tr th {\n",
       "        vertical-align: top;\n",
       "    }\n",
       "\n",
       "    .dataframe thead th {\n",
       "        text-align: right;\n",
       "    }\n",
       "</style>\n",
       "<table border=\"1\" class=\"dataframe\">\n",
       "  <thead>\n",
       "    <tr style=\"text-align: right;\">\n",
       "      <th></th>\n",
       "      <th>review</th>\n",
       "      <th>label</th>\n",
       "      <th>review_without_stopwords</th>\n",
       "    </tr>\n",
       "  </thead>\n",
       "  <tbody>\n",
       "    <tr>\n",
       "      <th>0</th>\n",
       "      <td>took a weekend trip with my wife. got a great ...</td>\n",
       "      <td>truthful</td>\n",
       "      <td>took weekend trip wife got great rate valet in...</td>\n",
       "    </tr>\n",
       "    <tr>\n",
       "      <th>1</th>\n",
       "      <td>Thirty years ago, we had a tiny \"room\" and ind...</td>\n",
       "      <td>truthful</td>\n",
       "      <td>Thirty years ago tiny room indifferent service...</td>\n",
       "    </tr>\n",
       "    <tr>\n",
       "      <th>2</th>\n",
       "      <td>Dispite what other are saying, this was one, i...</td>\n",
       "      <td>truthful</td>\n",
       "      <td>Dispite saying one best Hotel stay Chicago I I...</td>\n",
       "    </tr>\n",
       "    <tr>\n",
       "      <th>3</th>\n",
       "      <td>We loved the hotel. When I see other posts abo...</td>\n",
       "      <td>truthful</td>\n",
       "      <td>We loved hotel When I see posts shabby I cant ...</td>\n",
       "    </tr>\n",
       "    <tr>\n",
       "      <th>4</th>\n",
       "      <td>We have just returned from a week at the James...</td>\n",
       "      <td>truthful</td>\n",
       "      <td>We returned week James Chicago The hotel fabul...</td>\n",
       "    </tr>\n",
       "  </tbody>\n",
       "</table>\n",
       "</div>"
      ],
      "text/plain": [
       "                                              review     label  \\\n",
       "0  took a weekend trip with my wife. got a great ...  truthful   \n",
       "1  Thirty years ago, we had a tiny \"room\" and ind...  truthful   \n",
       "2  Dispite what other are saying, this was one, i...  truthful   \n",
       "3  We loved the hotel. When I see other posts abo...  truthful   \n",
       "4  We have just returned from a week at the James...  truthful   \n",
       "\n",
       "                            review_without_stopwords  \n",
       "0  took weekend trip wife got great rate valet in...  \n",
       "1  Thirty years ago tiny room indifferent service...  \n",
       "2  Dispite saying one best Hotel stay Chicago I I...  \n",
       "3  We loved hotel When I see posts shabby I cant ...  \n",
       "4  We returned week James Chicago The hotel fabul...  "
      ]
     },
     "execution_count": 471,
     "metadata": {},
     "output_type": "execute_result"
    }
   ],
   "source": [
    "reviews.head()"
   ]
  },
  {
   "cell_type": "markdown",
   "id": "535eb14e",
   "metadata": {},
   "source": [
    "### Tag reviews using TextBlob\n",
    "We want to tag each word in the review to see what type of word it is. We create a new column to store the tagged values."
   ]
  },
  {
   "cell_type": "code",
   "execution_count": 489,
   "id": "3130d6e3",
   "metadata": {},
   "outputs": [],
   "source": [
    "def tag(review_without_stopwords):\n",
    "    return TextBlob(review_without_stopwords).tags\n",
    "\n",
    "tagged_arr = reviews.review_without_stopwords.apply(tag)\n",
    "temp = pd.DataFrame(tagged_arr)"
   ]
  },
  {
   "cell_type": "code",
   "execution_count": 473,
   "id": "3eb318a6",
   "metadata": {},
   "outputs": [
    {
     "data": {
      "text/html": [
       "<div>\n",
       "<style scoped>\n",
       "    .dataframe tbody tr th:only-of-type {\n",
       "        vertical-align: middle;\n",
       "    }\n",
       "\n",
       "    .dataframe tbody tr th {\n",
       "        vertical-align: top;\n",
       "    }\n",
       "\n",
       "    .dataframe thead th {\n",
       "        text-align: right;\n",
       "    }\n",
       "</style>\n",
       "<table border=\"1\" class=\"dataframe\">\n",
       "  <thead>\n",
       "    <tr style=\"text-align: right;\">\n",
       "      <th></th>\n",
       "      <th>review</th>\n",
       "      <th>label</th>\n",
       "      <th>review_without_stopwords</th>\n",
       "      <th>tagged_review</th>\n",
       "    </tr>\n",
       "  </thead>\n",
       "  <tbody>\n",
       "    <tr>\n",
       "      <th>0</th>\n",
       "      <td>took a weekend trip with my wife. got a great ...</td>\n",
       "      <td>truthful</td>\n",
       "      <td>took weekend trip wife got great rate valet in...</td>\n",
       "      <td>took/VBD weekend/NN trip/NN wife/NN got/VBD gr...</td>\n",
       "    </tr>\n",
       "    <tr>\n",
       "      <th>1</th>\n",
       "      <td>Thirty years ago, we had a tiny \"room\" and ind...</td>\n",
       "      <td>truthful</td>\n",
       "      <td>Thirty years ago tiny room indifferent service...</td>\n",
       "      <td>Thirty/CD years/NNS ago/RB tiny/JJ room/NN ind...</td>\n",
       "    </tr>\n",
       "    <tr>\n",
       "      <th>2</th>\n",
       "      <td>Dispite what other are saying, this was one, i...</td>\n",
       "      <td>truthful</td>\n",
       "      <td>Dispite saying one best Hotel stay Chicago I I...</td>\n",
       "      <td>Dispite/NNP saying/VBG one/CD best/JJS Hotel/N...</td>\n",
       "    </tr>\n",
       "    <tr>\n",
       "      <th>3</th>\n",
       "      <td>We loved the hotel. When I see other posts abo...</td>\n",
       "      <td>truthful</td>\n",
       "      <td>We loved hotel When I see posts shabby I cant ...</td>\n",
       "      <td>We/PRP loved/VBD hotel/NN When/WRB I/PRP see/V...</td>\n",
       "    </tr>\n",
       "    <tr>\n",
       "      <th>4</th>\n",
       "      <td>We have just returned from a week at the James...</td>\n",
       "      <td>truthful</td>\n",
       "      <td>We returned week James Chicago The hotel fabul...</td>\n",
       "      <td>We/PRP returned/VBD week/NN James/NNP Chicago/...</td>\n",
       "    </tr>\n",
       "  </tbody>\n",
       "</table>\n",
       "</div>"
      ],
      "text/plain": [
       "                                              review     label  \\\n",
       "0  took a weekend trip with my wife. got a great ...  truthful   \n",
       "1  Thirty years ago, we had a tiny \"room\" and ind...  truthful   \n",
       "2  Dispite what other are saying, this was one, i...  truthful   \n",
       "3  We loved the hotel. When I see other posts abo...  truthful   \n",
       "4  We have just returned from a week at the James...  truthful   \n",
       "\n",
       "                            review_without_stopwords  \\\n",
       "0  took weekend trip wife got great rate valet in...   \n",
       "1  Thirty years ago tiny room indifferent service...   \n",
       "2  Dispite saying one best Hotel stay Chicago I I...   \n",
       "3  We loved hotel When I see posts shabby I cant ...   \n",
       "4  We returned week James Chicago The hotel fabul...   \n",
       "\n",
       "                                       tagged_review  \n",
       "0  took/VBD weekend/NN trip/NN wife/NN got/VBD gr...  \n",
       "1  Thirty/CD years/NNS ago/RB tiny/JJ room/NN ind...  \n",
       "2  Dispite/NNP saying/VBG one/CD best/JJS Hotel/N...  \n",
       "3  We/PRP loved/VBD hotel/NN When/WRB I/PRP see/V...  \n",
       "4  We/PRP returned/VBD week/NN James/NNP Chicago/...  "
      ]
     },
     "execution_count": 473,
     "metadata": {},
     "output_type": "execute_result"
    }
   ],
   "source": [
    "def reformat_tagged_words(col):\n",
    "    new_col = []\n",
    "    for review in col:\n",
    "        new_val = []\n",
    "        for tagged_tuple in review:\n",
    "            new_val.append(\"/\".join(tagged_tuple))\n",
    "        new_col.append(' '.join(new_val))\n",
    "    return new_col\n",
    "\n",
    "reviews['tagged_review'] = reformat_tagged_words(temp['review_without_stopwords'])\n",
    "reviews.head()"
   ]
  },
  {
   "cell_type": "code",
   "execution_count": 474,
   "id": "32ca546a",
   "metadata": {},
   "outputs": [
    {
     "data": {
      "text/plain": [
       "0      took/VBD weekend/NN trip/NN wife/NN got/VBD gr...\n",
       "1      Thirty/CD years/NNS ago/RB tiny/JJ room/NN ind...\n",
       "2      Dispite/NNP saying/VBG one/CD best/JJS Hotel/N...\n",
       "3      We/PRP loved/VBD hotel/NN When/WRB I/PRP see/V...\n",
       "4      We/PRP returned/VBD week/NN James/NNP Chicago/...\n",
       "                             ...                        \n",
       "795    A/DT decent/JJ place/NN stay/VB The/DT people/...\n",
       "796    The/DT InterContinental/NNP Chicago/NNP hotel/...\n",
       "797    When/WRB I/PRP first/RB made/VBD reservations/...\n",
       "798    I/PRP would/MD stay/VB hotel/VB The/DT rooms/N...\n",
       "799    I/PRP awful/VBP experience/VB The/DT staff/NN ...\n",
       "Name: tagged_review, Length: 1600, dtype: object"
      ]
     },
     "execution_count": 474,
     "metadata": {},
     "output_type": "execute_result"
    }
   ],
   "source": [
    "reviews['tagged_review']"
   ]
  },
  {
   "cell_type": "markdown",
   "id": "45e8bbf2",
   "metadata": {},
   "source": [
    "## Cross Validation"
   ]
  },
  {
   "cell_type": "code",
   "execution_count": 475,
   "id": "bdf77955",
   "metadata": {},
   "outputs": [],
   "source": [
    "x_train, x_test, y_train, y_test = train_test_split(reviews['tagged_review'], reviews['label'], test_size=0.3, random_state=42)"
   ]
  },
  {
   "cell_type": "markdown",
   "id": "539aa8c6",
   "metadata": {},
   "source": [
    "## Vectorizing data\n",
    "We want to vectorize text to assign different weights to different terms based on its frequency in the review and its frequency in the corpus."
   ]
  },
  {
   "cell_type": "code",
   "execution_count": 476,
   "id": "6c98e1d2",
   "metadata": {
    "scrolled": true
   },
   "outputs": [
    {
     "name": "stderr",
     "output_type": "stream",
     "text": [
      "/Users/joanne/opt/anaconda3/lib/python3.9/site-packages/sklearn/utils/deprecation.py:87: FutureWarning: Function get_feature_names is deprecated; get_feature_names is deprecated in 1.0 and will be removed in 1.2. Please use get_feature_names_out instead.\n",
      "  warnings.warn(msg, category=FutureWarning)\n"
     ]
    },
    {
     "data": {
      "text/html": [
       "<div>\n",
       "<style scoped>\n",
       "    .dataframe tbody tr th:only-of-type {\n",
       "        vertical-align: middle;\n",
       "    }\n",
       "\n",
       "    .dataframe tbody tr th {\n",
       "        vertical-align: top;\n",
       "    }\n",
       "\n",
       "    .dataframe thead th {\n",
       "        text-align: right;\n",
       "    }\n",
       "</style>\n",
       "<table border=\"1\" class=\"dataframe\">\n",
       "  <thead>\n",
       "    <tr style=\"text-align: right;\">\n",
       "      <th></th>\n",
       "      <th>tfidf</th>\n",
       "    </tr>\n",
       "  </thead>\n",
       "  <tbody>\n",
       "    <tr>\n",
       "      <th>nn</th>\n",
       "      <td>0.459930</td>\n",
       "    </tr>\n",
       "    <tr>\n",
       "      <th>jj</th>\n",
       "      <td>0.238482</td>\n",
       "    </tr>\n",
       "    <tr>\n",
       "      <th>nnp</th>\n",
       "      <td>0.212978</td>\n",
       "    </tr>\n",
       "    <tr>\n",
       "      <th>nns</th>\n",
       "      <td>0.177165</td>\n",
       "    </tr>\n",
       "    <tr>\n",
       "      <th>rb</th>\n",
       "      <td>0.157750</td>\n",
       "    </tr>\n",
       "    <tr>\n",
       "      <th>...</th>\n",
       "      <td>...</td>\n",
       "    </tr>\n",
       "    <tr>\n",
       "      <th>everyone</th>\n",
       "      <td>0.000000</td>\n",
       "    </tr>\n",
       "    <tr>\n",
       "      <th>everyday</th>\n",
       "      <td>0.000000</td>\n",
       "    </tr>\n",
       "    <tr>\n",
       "      <th>everybody</th>\n",
       "      <td>0.000000</td>\n",
       "    </tr>\n",
       "    <tr>\n",
       "      <th>every</th>\n",
       "      <td>0.000000</td>\n",
       "    </tr>\n",
       "    <tr>\n",
       "      <th>zoo</th>\n",
       "      <td>0.000000</td>\n",
       "    </tr>\n",
       "  </tbody>\n",
       "</table>\n",
       "<p>8690 rows × 1 columns</p>\n",
       "</div>"
      ],
      "text/plain": [
       "              tfidf\n",
       "nn         0.459930\n",
       "jj         0.238482\n",
       "nnp        0.212978\n",
       "nns        0.177165\n",
       "rb         0.157750\n",
       "...             ...\n",
       "everyone   0.000000\n",
       "everyday   0.000000\n",
       "everybody  0.000000\n",
       "every      0.000000\n",
       "zoo        0.000000\n",
       "\n",
       "[8690 rows x 1 columns]"
      ]
     },
     "execution_count": 476,
     "metadata": {},
     "output_type": "execute_result"
    }
   ],
   "source": [
    "vectorizer = TfidfVectorizer(lowercase=True, use_idf=True, smooth_idf=True, sublinear_tf=False)\n",
    "\n",
    "# Vectorize to assign different weights to different types of text\n",
    "x_train_tf = vectorizer.fit_transform(x_train)\n",
    "x_test_tf = vectorizer.transform(x_test)\n",
    "\n",
    "first_vector = x_train_tf[0] \n",
    "\n",
    "# Show the vectorized results\n",
    "df = pd.DataFrame(first_vector.T.todense(), index=vectorizer.get_feature_names(), columns=[\"tfidf\"]) \n",
    "df.sort_values(by=[\"tfidf\"], ascending=False)"
   ]
  },
  {
   "cell_type": "markdown",
   "id": "83c93792",
   "metadata": {},
   "source": [
    "## Building the model"
   ]
  },
  {
   "cell_type": "markdown",
   "id": "928fc33b",
   "metadata": {},
   "source": [
    "We want to try running different types of models and compare the results to see what model classifier to use.\n",
    "\n",
    "- x (independent variable) -- `tagged_review`\n",
    "- y (dependent variable) -- `label`"
   ]
  },
  {
   "cell_type": "markdown",
   "id": "2275ab4b",
   "metadata": {},
   "source": [
    "### 1. Decision Tree Classifier"
   ]
  },
  {
   "cell_type": "code",
   "execution_count": 477,
   "id": "27452b72",
   "metadata": {},
   "outputs": [
    {
     "name": "stdout",
     "output_type": "stream",
     "text": [
      "The accuracy score for decision tree classifier is 0.7416666666666667\n"
     ]
    }
   ],
   "source": [
    "from sklearn import tree\n",
    "dt_clf = tree.DecisionTreeClassifier()\n",
    "dt_clf.fit(x_train_tf, y_train)\n",
    "dt_pred = dt_clf.predict(x_test_tf)\n",
    "\n",
    "# Calculate accuracy score\n",
    "dt_accuracy = metrics.accuracy_score(y_test, dt_pred)\n",
    "\n",
    "print(\"The accuracy score for decision tree classifier is\", dt_accuracy)"
   ]
  },
  {
   "cell_type": "markdown",
   "id": "7566ca37",
   "metadata": {},
   "source": [
    "### 2. Random Forest Classifier"
   ]
  },
  {
   "cell_type": "code",
   "execution_count": 478,
   "id": "6799bdfd",
   "metadata": {},
   "outputs": [
    {
     "name": "stdout",
     "output_type": "stream",
     "text": [
      "The accuracy score for random forest classifier is 0.8458333333333333\n"
     ]
    }
   ],
   "source": [
    "rf_clf = RandomForestClassifier()\n",
    "rf_clf.fit(x_train_tf, y_train)\n",
    "rf_pred = rf_clf.predict(x_test_tf)\n",
    "\n",
    "# Calculate accuracy score\n",
    "rf_accuracy = metrics.accuracy_score(y_test, rf_pred)\n",
    "\n",
    "print(\"The accuracy score for random forest classifier is\", rf_accuracy)"
   ]
  },
  {
   "cell_type": "markdown",
   "id": "396fcd6d",
   "metadata": {},
   "source": [
    "### 3. Support Vector Machine (SVM) Classifier"
   ]
  },
  {
   "cell_type": "code",
   "execution_count": 479,
   "id": "085424bf",
   "metadata": {},
   "outputs": [
    {
     "data": {
      "text/html": [
       "<style>#sk-container-id-7 {color: black;background-color: white;}#sk-container-id-7 pre{padding: 0;}#sk-container-id-7 div.sk-toggleable {background-color: white;}#sk-container-id-7 label.sk-toggleable__label {cursor: pointer;display: block;width: 100%;margin-bottom: 0;padding: 0.3em;box-sizing: border-box;text-align: center;}#sk-container-id-7 label.sk-toggleable__label-arrow:before {content: \"▸\";float: left;margin-right: 0.25em;color: #696969;}#sk-container-id-7 label.sk-toggleable__label-arrow:hover:before {color: black;}#sk-container-id-7 div.sk-estimator:hover label.sk-toggleable__label-arrow:before {color: black;}#sk-container-id-7 div.sk-toggleable__content {max-height: 0;max-width: 0;overflow: hidden;text-align: left;background-color: #f0f8ff;}#sk-container-id-7 div.sk-toggleable__content pre {margin: 0.2em;color: black;border-radius: 0.25em;background-color: #f0f8ff;}#sk-container-id-7 input.sk-toggleable__control:checked~div.sk-toggleable__content {max-height: 200px;max-width: 100%;overflow: auto;}#sk-container-id-7 input.sk-toggleable__control:checked~label.sk-toggleable__label-arrow:before {content: \"▾\";}#sk-container-id-7 div.sk-estimator input.sk-toggleable__control:checked~label.sk-toggleable__label {background-color: #d4ebff;}#sk-container-id-7 div.sk-label input.sk-toggleable__control:checked~label.sk-toggleable__label {background-color: #d4ebff;}#sk-container-id-7 input.sk-hidden--visually {border: 0;clip: rect(1px 1px 1px 1px);clip: rect(1px, 1px, 1px, 1px);height: 1px;margin: -1px;overflow: hidden;padding: 0;position: absolute;width: 1px;}#sk-container-id-7 div.sk-estimator {font-family: monospace;background-color: #f0f8ff;border: 1px dotted black;border-radius: 0.25em;box-sizing: border-box;margin-bottom: 0.5em;}#sk-container-id-7 div.sk-estimator:hover {background-color: #d4ebff;}#sk-container-id-7 div.sk-parallel-item::after {content: \"\";width: 100%;border-bottom: 1px solid gray;flex-grow: 1;}#sk-container-id-7 div.sk-label:hover label.sk-toggleable__label {background-color: #d4ebff;}#sk-container-id-7 div.sk-serial::before {content: \"\";position: absolute;border-left: 1px solid gray;box-sizing: border-box;top: 0;bottom: 0;left: 50%;z-index: 0;}#sk-container-id-7 div.sk-serial {display: flex;flex-direction: column;align-items: center;background-color: white;padding-right: 0.2em;padding-left: 0.2em;position: relative;}#sk-container-id-7 div.sk-item {position: relative;z-index: 1;}#sk-container-id-7 div.sk-parallel {display: flex;align-items: stretch;justify-content: center;background-color: white;position: relative;}#sk-container-id-7 div.sk-item::before, #sk-container-id-7 div.sk-parallel-item::before {content: \"\";position: absolute;border-left: 1px solid gray;box-sizing: border-box;top: 0;bottom: 0;left: 50%;z-index: -1;}#sk-container-id-7 div.sk-parallel-item {display: flex;flex-direction: column;z-index: 1;position: relative;background-color: white;}#sk-container-id-7 div.sk-parallel-item:first-child::after {align-self: flex-end;width: 50%;}#sk-container-id-7 div.sk-parallel-item:last-child::after {align-self: flex-start;width: 50%;}#sk-container-id-7 div.sk-parallel-item:only-child::after {width: 0;}#sk-container-id-7 div.sk-dashed-wrapped {border: 1px dashed gray;margin: 0 0.4em 0.5em 0.4em;box-sizing: border-box;padding-bottom: 0.4em;background-color: white;}#sk-container-id-7 div.sk-label label {font-family: monospace;font-weight: bold;display: inline-block;line-height: 1.2em;}#sk-container-id-7 div.sk-label-container {text-align: center;}#sk-container-id-7 div.sk-container {/* jupyter's `normalize.less` sets `[hidden] { display: none; }` but bootstrap.min.css set `[hidden] { display: none !important; }` so we also need the `!important` here to be able to override the default hidden behavior on the sphinx rendered scikit-learn.org. See: https://github.com/scikit-learn/scikit-learn/issues/21755 */display: inline-block !important;position: relative;}#sk-container-id-7 div.sk-text-repr-fallback {display: none;}</style><div id=\"sk-container-id-7\" class=\"sk-top-container\"><div class=\"sk-text-repr-fallback\"><pre>SVC(C=1, gamma=0.001, kernel=&#x27;linear&#x27;)</pre><b>In a Jupyter environment, please rerun this cell to show the HTML representation or trust the notebook. <br />On GitHub, the HTML representation is unable to render, please try loading this page with nbviewer.org.</b></div><div class=\"sk-container\" hidden><div class=\"sk-item\"><div class=\"sk-estimator sk-toggleable\"><input class=\"sk-toggleable__control sk-hidden--visually\" id=\"sk-estimator-id-9\" type=\"checkbox\" checked><label for=\"sk-estimator-id-9\" class=\"sk-toggleable__label sk-toggleable__label-arrow\">SVC</label><div class=\"sk-toggleable__content\"><pre>SVC(C=1, gamma=0.001, kernel=&#x27;linear&#x27;)</pre></div></div></div></div></div>"
      ],
      "text/plain": [
       "SVC(C=1, gamma=0.001, kernel='linear')"
      ]
     },
     "execution_count": 479,
     "metadata": {},
     "output_type": "execute_result"
    }
   ],
   "source": [
    "def svc_param_selection(X, y, nfolds):\n",
    "    Cs = [0.001, 0.01, 0.1, 1, 10]\n",
    "    gammas = [0.001, 0.01, 0.1, 1]\n",
    "    params = {'C': Cs, 'gamma' : gammas, 'kernel' : ['linear']}\n",
    "    regressor = GridSearchCV(SVC(), params, cv=nfolds)\n",
    "    regressor.fit(X, y)\n",
    "    return regressor.best_params_\n",
    "\n",
    "best_params = svc_param_selection(x_train_tf, y_train, 5)\n",
    "clf = SVC(C=best_params['C'], gamma=best_params['gamma'], kernel=best_params['kernel'])\n",
    "clf.fit(x_train_tf, y_train)"
   ]
  },
  {
   "cell_type": "markdown",
   "id": "395c0329",
   "metadata": {},
   "source": [
    "### SVM model evaluation"
   ]
  },
  {
   "cell_type": "code",
   "execution_count": 480,
   "id": "5fb99ba6",
   "metadata": {},
   "outputs": [
    {
     "name": "stdout",
     "output_type": "stream",
     "text": [
      "The accuracy score for SVM classifier is 0.88125\n"
     ]
    }
   ],
   "source": [
    "pred = clf.predict(x_test_tf)\n",
    "accuracy = metrics.accuracy_score(y_test, pred)  \n",
    "print(\"The accuracy score for SVM classifier is\", accuracy)"
   ]
  },
  {
   "cell_type": "markdown",
   "id": "5ad52099",
   "metadata": {},
   "source": [
    "Based on the accuracy score of the decision tree, random forest, and SVM model, we can see that the SVM model produces the highest accuracy and thus we use this to proceed to next step."
   ]
  },
  {
   "cell_type": "code",
   "execution_count": 481,
   "id": "179e5a0a",
   "metadata": {},
   "outputs": [
    {
     "name": "stdout",
     "output_type": "stream",
     "text": [
      "[[208  21]\n",
      " [ 36 215]]\n"
     ]
    }
   ],
   "source": [
    "confusion_matrix = confusion_matrix(y_test, pred)\n",
    "print (confusion_matrix)"
   ]
  },
  {
   "cell_type": "code",
   "execution_count": 482,
   "id": "5cd177e6",
   "metadata": {},
   "outputs": [
    {
     "name": "stdout",
     "output_type": "stream",
     "text": [
      "              precision    recall  f1-score   support\n",
      "\n",
      "   deceptive       0.85      0.91      0.88       229\n",
      "    truthful       0.91      0.86      0.88       251\n",
      "\n",
      "    accuracy                           0.88       480\n",
      "   macro avg       0.88      0.88      0.88       480\n",
      "weighted avg       0.88      0.88      0.88       480\n",
      "\n"
     ]
    }
   ],
   "source": [
    "report = classification_report(y_test, pred)\n",
    "print(report)"
   ]
  },
  {
   "cell_type": "markdown",
   "id": "2f466f16",
   "metadata": {},
   "source": [
    "## Exporting Model"
   ]
  },
  {
   "cell_type": "code",
   "execution_count": 515,
   "id": "165b06a4",
   "metadata": {},
   "outputs": [],
   "source": [
    "# Export the model and vectorizer\n",
    "data = {\"model\": clf, \"vectorizer\": vectorizer}\n",
    "with open('model.pkl', 'wb') as file:\n",
    "    pickle.dump(data, file)"
   ]
  },
  {
   "cell_type": "code",
   "execution_count": 516,
   "id": "dbef3ac0",
   "metadata": {},
   "outputs": [],
   "source": [
    "with open('model.pkl', 'rb') as file:\n",
    "    data = pickle.load(file)\n",
    "\n",
    "clf_loaded = data[\"model\"]"
   ]
  },
  {
   "cell_type": "code",
   "execution_count": 514,
   "id": "b42f2fea",
   "metadata": {},
   "outputs": [
    {
     "data": {
      "text/plain": [
       "array(['deceptive', 'truthful', 'truthful', 'truthful', 'deceptive',\n",
       "       'deceptive', 'deceptive', 'truthful', 'truthful', 'truthful',\n",
       "       'truthful', 'deceptive', 'deceptive', 'deceptive', 'deceptive',\n",
       "       'truthful', 'truthful', 'deceptive', 'truthful', 'deceptive',\n",
       "       'deceptive', 'truthful', 'truthful', 'truthful', 'truthful',\n",
       "       'deceptive', 'deceptive', 'deceptive', 'truthful', 'truthful',\n",
       "       'truthful', 'truthful', 'truthful', 'deceptive', 'truthful',\n",
       "       'deceptive', 'truthful', 'deceptive', 'truthful', 'truthful',\n",
       "       'truthful', 'deceptive', 'deceptive', 'deceptive', 'deceptive',\n",
       "       'deceptive', 'deceptive', 'truthful', 'truthful', 'deceptive',\n",
       "       'deceptive', 'deceptive', 'deceptive', 'truthful', 'deceptive',\n",
       "       'deceptive', 'truthful', 'truthful', 'truthful', 'truthful',\n",
       "       'truthful', 'truthful', 'deceptive', 'deceptive', 'truthful',\n",
       "       'truthful', 'truthful', 'deceptive', 'deceptive', 'truthful',\n",
       "       'deceptive', 'truthful', 'truthful', 'truthful', 'truthful',\n",
       "       'deceptive', 'deceptive', 'deceptive', 'deceptive', 'deceptive',\n",
       "       'deceptive', 'deceptive', 'deceptive', 'truthful', 'deceptive',\n",
       "       'deceptive', 'truthful', 'truthful', 'truthful', 'truthful',\n",
       "       'deceptive', 'truthful', 'deceptive', 'truthful', 'truthful',\n",
       "       'truthful', 'truthful', 'deceptive', 'deceptive', 'deceptive',\n",
       "       'truthful', 'deceptive', 'truthful', 'deceptive', 'truthful',\n",
       "       'truthful', 'truthful', 'truthful', 'truthful', 'deceptive',\n",
       "       'deceptive', 'truthful', 'deceptive', 'deceptive', 'truthful',\n",
       "       'deceptive', 'truthful', 'truthful', 'truthful', 'truthful',\n",
       "       'deceptive', 'deceptive', 'truthful', 'truthful', 'deceptive',\n",
       "       'truthful', 'truthful', 'truthful', 'truthful', 'truthful',\n",
       "       'truthful', 'deceptive', 'deceptive', 'deceptive', 'truthful',\n",
       "       'truthful', 'truthful', 'deceptive', 'truthful', 'truthful',\n",
       "       'deceptive', 'truthful', 'truthful', 'truthful', 'truthful',\n",
       "       'truthful', 'truthful', 'deceptive', 'deceptive', 'truthful',\n",
       "       'truthful', 'truthful', 'deceptive', 'truthful', 'truthful',\n",
       "       'truthful', 'deceptive', 'truthful', 'truthful', 'truthful',\n",
       "       'deceptive', 'deceptive', 'deceptive', 'truthful', 'deceptive',\n",
       "       'deceptive', 'truthful', 'deceptive', 'truthful', 'deceptive',\n",
       "       'truthful', 'deceptive', 'truthful', 'deceptive', 'deceptive',\n",
       "       'truthful', 'deceptive', 'deceptive', 'deceptive', 'truthful',\n",
       "       'truthful', 'truthful', 'deceptive', 'deceptive', 'deceptive',\n",
       "       'truthful', 'truthful', 'truthful', 'deceptive', 'deceptive',\n",
       "       'truthful', 'deceptive', 'truthful', 'truthful', 'deceptive',\n",
       "       'truthful', 'truthful', 'deceptive', 'truthful', 'truthful',\n",
       "       'deceptive', 'deceptive', 'truthful', 'truthful', 'deceptive',\n",
       "       'truthful', 'deceptive', 'truthful', 'deceptive', 'truthful',\n",
       "       'deceptive', 'deceptive', 'truthful', 'truthful', 'truthful',\n",
       "       'truthful', 'truthful', 'deceptive', 'truthful', 'truthful',\n",
       "       'truthful', 'truthful', 'truthful', 'deceptive', 'truthful',\n",
       "       'deceptive', 'truthful', 'truthful', 'truthful', 'truthful',\n",
       "       'deceptive', 'truthful', 'deceptive', 'deceptive', 'truthful',\n",
       "       'deceptive', 'truthful', 'deceptive', 'deceptive', 'deceptive',\n",
       "       'deceptive', 'deceptive', 'deceptive', 'deceptive', 'truthful',\n",
       "       'truthful', 'truthful', 'deceptive', 'deceptive', 'deceptive',\n",
       "       'deceptive', 'truthful', 'deceptive', 'truthful', 'truthful',\n",
       "       'deceptive', 'deceptive', 'truthful', 'deceptive', 'truthful',\n",
       "       'deceptive', 'deceptive', 'truthful', 'deceptive', 'truthful',\n",
       "       'truthful', 'truthful', 'deceptive', 'truthful', 'truthful',\n",
       "       'deceptive', 'truthful', 'deceptive', 'deceptive', 'truthful',\n",
       "       'deceptive', 'truthful', 'deceptive', 'truthful', 'deceptive',\n",
       "       'truthful', 'deceptive', 'deceptive', 'deceptive', 'deceptive',\n",
       "       'deceptive', 'deceptive', 'truthful', 'deceptive', 'deceptive',\n",
       "       'truthful', 'deceptive', 'truthful', 'deceptive', 'deceptive',\n",
       "       'truthful', 'deceptive', 'deceptive', 'truthful', 'truthful',\n",
       "       'truthful', 'truthful', 'deceptive', 'deceptive', 'truthful',\n",
       "       'truthful', 'deceptive', 'deceptive', 'truthful', 'truthful',\n",
       "       'deceptive', 'truthful', 'deceptive', 'deceptive', 'truthful',\n",
       "       'deceptive', 'deceptive', 'truthful', 'deceptive', 'truthful',\n",
       "       'deceptive', 'truthful', 'deceptive', 'truthful', 'truthful',\n",
       "       'deceptive', 'truthful', 'deceptive', 'truthful', 'truthful',\n",
       "       'deceptive', 'deceptive', 'deceptive', 'truthful', 'deceptive',\n",
       "       'deceptive', 'deceptive', 'deceptive', 'truthful', 'deceptive',\n",
       "       'deceptive', 'deceptive', 'deceptive', 'truthful', 'deceptive',\n",
       "       'deceptive', 'truthful', 'truthful', 'truthful', 'deceptive',\n",
       "       'deceptive', 'deceptive', 'deceptive', 'truthful', 'deceptive',\n",
       "       'deceptive', 'truthful', 'deceptive', 'truthful', 'deceptive',\n",
       "       'truthful', 'deceptive', 'deceptive', 'deceptive', 'truthful',\n",
       "       'truthful', 'deceptive', 'deceptive', 'truthful', 'deceptive',\n",
       "       'deceptive', 'deceptive', 'truthful', 'deceptive', 'deceptive',\n",
       "       'deceptive', 'deceptive', 'truthful', 'deceptive', 'deceptive',\n",
       "       'truthful', 'deceptive', 'truthful', 'truthful', 'deceptive',\n",
       "       'deceptive', 'truthful', 'truthful', 'deceptive', 'deceptive',\n",
       "       'truthful', 'deceptive', 'deceptive', 'deceptive', 'truthful',\n",
       "       'deceptive', 'truthful', 'deceptive', 'deceptive', 'deceptive',\n",
       "       'truthful', 'deceptive', 'truthful', 'deceptive', 'truthful',\n",
       "       'deceptive', 'truthful', 'deceptive', 'truthful', 'deceptive',\n",
       "       'deceptive', 'deceptive', 'truthful', 'deceptive', 'deceptive',\n",
       "       'deceptive', 'deceptive', 'truthful', 'deceptive', 'truthful',\n",
       "       'truthful', 'deceptive', 'deceptive', 'deceptive', 'truthful',\n",
       "       'truthful', 'truthful', 'truthful', 'truthful', 'truthful',\n",
       "       'deceptive', 'truthful', 'truthful', 'deceptive', 'deceptive',\n",
       "       'deceptive', 'truthful', 'truthful', 'deceptive', 'truthful',\n",
       "       'deceptive', 'deceptive', 'deceptive', 'deceptive', 'truthful',\n",
       "       'truthful', 'truthful', 'truthful', 'deceptive', 'deceptive',\n",
       "       'truthful', 'deceptive', 'deceptive', 'truthful', 'truthful',\n",
       "       'truthful', 'truthful', 'truthful', 'deceptive', 'truthful',\n",
       "       'deceptive', 'truthful', 'deceptive', 'deceptive', 'truthful',\n",
       "       'truthful', 'truthful', 'truthful', 'deceptive', 'truthful',\n",
       "       'deceptive', 'deceptive', 'deceptive', 'deceptive', 'deceptive',\n",
       "       'deceptive', 'deceptive', 'truthful', 'deceptive', 'deceptive'],\n",
       "      dtype=object)"
      ]
     },
     "execution_count": 514,
     "metadata": {},
     "output_type": "execute_result"
    }
   ],
   "source": [
    "# Test running on data after reloading the model\n",
    "y_pred = clf_loaded.predict(x_test_tf)\n",
    "y_pred"
   ]
  },
  {
   "cell_type": "code",
   "execution_count": 486,
   "id": "09d5dcd0",
   "metadata": {},
   "outputs": [],
   "source": []
  },
  {
   "cell_type": "code",
   "execution_count": 487,
   "id": "6221687c",
   "metadata": {},
   "outputs": [
    {
     "data": {
      "text/html": [
       "<div>\n",
       "<style scoped>\n",
       "    .dataframe tbody tr th:only-of-type {\n",
       "        vertical-align: middle;\n",
       "    }\n",
       "\n",
       "    .dataframe tbody tr th {\n",
       "        vertical-align: top;\n",
       "    }\n",
       "\n",
       "    .dataframe thead th {\n",
       "        text-align: right;\n",
       "    }\n",
       "</style>\n",
       "<table border=\"1\" class=\"dataframe\">\n",
       "  <thead>\n",
       "    <tr style=\"text-align: right;\">\n",
       "      <th></th>\n",
       "      <th>review</th>\n",
       "      <th>label</th>\n",
       "      <th>review_without_stopwords</th>\n",
       "      <th>tagged_review</th>\n",
       "    </tr>\n",
       "  </thead>\n",
       "  <tbody>\n",
       "    <tr>\n",
       "      <th>0</th>\n",
       "      <td>took a weekend trip with my wife. got a great ...</td>\n",
       "      <td>truthful</td>\n",
       "      <td>took weekend trip wife got great rate valet in...</td>\n",
       "      <td>took/VBD weekend/NN trip/NN wife/NN got/VBD gr...</td>\n",
       "    </tr>\n",
       "    <tr>\n",
       "      <th>1</th>\n",
       "      <td>Thirty years ago, we had a tiny \"room\" and ind...</td>\n",
       "      <td>truthful</td>\n",
       "      <td>Thirty years ago tiny room indifferent service...</td>\n",
       "      <td>Thirty/CD years/NNS ago/RB tiny/JJ room/NN ind...</td>\n",
       "    </tr>\n",
       "    <tr>\n",
       "      <th>2</th>\n",
       "      <td>Dispite what other are saying, this was one, i...</td>\n",
       "      <td>truthful</td>\n",
       "      <td>Dispite saying one best Hotel stay Chicago I I...</td>\n",
       "      <td>Dispite/NNP saying/VBG one/CD best/JJS Hotel/N...</td>\n",
       "    </tr>\n",
       "    <tr>\n",
       "      <th>3</th>\n",
       "      <td>We loved the hotel. When I see other posts abo...</td>\n",
       "      <td>truthful</td>\n",
       "      <td>We loved hotel When I see posts shabby I cant ...</td>\n",
       "      <td>We/PRP loved/VBD hotel/NN When/WRB I/PRP see/V...</td>\n",
       "    </tr>\n",
       "    <tr>\n",
       "      <th>4</th>\n",
       "      <td>We have just returned from a week at the James...</td>\n",
       "      <td>truthful</td>\n",
       "      <td>We returned week James Chicago The hotel fabul...</td>\n",
       "      <td>We/PRP returned/VBD week/NN James/NNP Chicago/...</td>\n",
       "    </tr>\n",
       "  </tbody>\n",
       "</table>\n",
       "</div>"
      ],
      "text/plain": [
       "                                              review     label  \\\n",
       "0  took a weekend trip with my wife. got a great ...  truthful   \n",
       "1  Thirty years ago, we had a tiny \"room\" and ind...  truthful   \n",
       "2  Dispite what other are saying, this was one, i...  truthful   \n",
       "3  We loved the hotel. When I see other posts abo...  truthful   \n",
       "4  We have just returned from a week at the James...  truthful   \n",
       "\n",
       "                            review_without_stopwords  \\\n",
       "0  took weekend trip wife got great rate valet in...   \n",
       "1  Thirty years ago tiny room indifferent service...   \n",
       "2  Dispite saying one best Hotel stay Chicago I I...   \n",
       "3  We loved hotel When I see posts shabby I cant ...   \n",
       "4  We returned week James Chicago The hotel fabul...   \n",
       "\n",
       "                                       tagged_review  \n",
       "0  took/VBD weekend/NN trip/NN wife/NN got/VBD gr...  \n",
       "1  Thirty/CD years/NNS ago/RB tiny/JJ room/NN ind...  \n",
       "2  Dispite/NNP saying/VBG one/CD best/JJS Hotel/N...  \n",
       "3  We/PRP loved/VBD hotel/NN When/WRB I/PRP see/V...  \n",
       "4  We/PRP returned/VBD week/NN James/NNP Chicago/...  "
      ]
     },
     "execution_count": 487,
     "metadata": {},
     "output_type": "execute_result"
    }
   ],
   "source": []
  },
  {
   "cell_type": "code",
   "execution_count": null,
   "id": "7805441b",
   "metadata": {},
   "outputs": [],
   "source": []
  }
 ],
 "metadata": {
  "kernelspec": {
   "display_name": "Python 3 (ipykernel)",
   "language": "python",
   "name": "python3"
  },
  "language_info": {
   "codemirror_mode": {
    "name": "ipython",
    "version": 3
   },
   "file_extension": ".py",
   "mimetype": "text/x-python",
   "name": "python",
   "nbconvert_exporter": "python",
   "pygments_lexer": "ipython3",
   "version": "3.9.7"
  },
  "vscode": {
   "interpreter": {
    "hash": "7812ea015bdcee6f23a998adcdd2ef97c151c0c241b7b7070987d9313e41299d"
   }
  }
 },
 "nbformat": 4,
 "nbformat_minor": 5
}
